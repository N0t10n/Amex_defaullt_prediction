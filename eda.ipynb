{
 "cells": [
  {
   "cell_type": "code",
   "execution_count": 1,
   "metadata": {},
   "outputs": [],
   "source": [
    "import numpy as np\n",
    "\n",
    "import pandas as pd\n",
    "\n",
    "import matplotlib.pyplot as plt\n",
    "import seaborn as sns\n",
    "import plotly.express as px\n",
    "import plotly.graph_objects as go\n",
    "from plotly.subplots import make_subplots\n",
    "\n",
    "import warnings\n",
    "warnings.filterwarnings('ignore')"
   ]
  },
  {
   "cell_type": "markdown",
   "metadata": {},
   "source": [
    "### Import all data"
   ]
  },
  {
   "cell_type": "code",
   "execution_count": 2,
   "metadata": {},
   "outputs": [],
   "source": [
    "# Feather files (Compressed version of the original data to handle with pandas)\n",
    "train_path = 'data/train_data.ftr'\n",
    "test_path = 'data/test_data.ftr'"
   ]
  },
  {
   "cell_type": "code",
   "execution_count": 4,
   "metadata": {},
   "outputs": [],
   "source": [
    "# Label's data or target is already loaded into train_data.ftr\n",
    "train_data = pd.read_feather(train_path)\n",
    "test_data = pd.read_feather(test_path)\n",
    "\n",
    "print(\"Shape of train data:\",train_data.shape)\n",
    "print(\"Shape of test data:\",test_data.shape)"
   ]
  },
  {
   "cell_type": "code",
   "execution_count": 7,
   "metadata": {},
   "outputs": [
    {
     "name": "stdout",
     "output_type": "stream",
     "text": [
      "<class 'pandas.core.frame.DataFrame'>\n",
      "RangeIndex: 5531451 entries, 0 to 5531450\n",
      "Data columns (total 191 columns):\n",
      " #    Column       Non-Null Count    Dtype         \n",
      "---   ------       --------------    -----         \n",
      " 0    customer_ID  5531451 non-null  object        \n",
      " 1    S_2          5531451 non-null  datetime64[ns]\n",
      " 2    P_2          5485466 non-null  float16       \n",
      " 3    D_39         5531451 non-null  float16       \n",
      " 4    B_1          5531451 non-null  float16       \n",
      " 5    B_2          5529435 non-null  float16       \n",
      " 6    R_1          5531451 non-null  float16       \n",
      " 7    S_3          4510907 non-null  float16       \n",
      " 8    D_41         5529435 non-null  float16       \n",
      " 9    B_3          5529435 non-null  float16       \n",
      " 10   D_42         791314 non-null   float16       \n",
      " 11   D_43         3873055 non-null  float16       \n",
      " 12   D_44         5257132 non-null  float16       \n",
      " 13   B_4          5531451 non-null  float16       \n",
      " 14   D_45         5529434 non-null  float16       \n",
      " 15   B_5          5531451 non-null  float16       \n",
      " 16   R_2          5531451 non-null  float16       \n",
      " 17   D_46         4319752 non-null  float16       \n",
      " 18   D_47         5531451 non-null  float16       \n",
      " 19   D_48         4812726 non-null  float16       \n",
      " 20   D_49         545534 non-null   float16       \n",
      " 21   B_6          5531218 non-null  float16       \n",
      " 22   B_7          5531451 non-null  float16       \n",
      " 23   B_8          5509183 non-null  float16       \n",
      " 24   D_50         2389049 non-null  float16       \n",
      " 25   D_51         5531451 non-null  float16       \n",
      " 26   B_9          5531451 non-null  float16       \n",
      " 27   R_3          5531451 non-null  float16       \n",
      " 28   D_52         5501888 non-null  float16       \n",
      " 29   P_3          5229959 non-null  float16       \n",
      " 30   B_10         5531451 non-null  float16       \n",
      " 31   D_53         1446866 non-null  float16       \n",
      " 32   S_5          5531451 non-null  float16       \n",
      " 33   B_11         5531451 non-null  float16       \n",
      " 34   S_6          5531451 non-null  float16       \n",
      " 35   D_54         5529435 non-null  float16       \n",
      " 36   R_4          5531451 non-null  float16       \n",
      " 37   S_7          4510907 non-null  float16       \n",
      " 38   B_12         5531451 non-null  float16       \n",
      " 39   S_8          5531451 non-null  float16       \n",
      " 40   D_55         5346648 non-null  float16       \n",
      " 41   D_56         2540508 non-null  float16       \n",
      " 42   B_13         5481932 non-null  float16       \n",
      " 43   R_5          5531451 non-null  float16       \n",
      " 44   D_58         5531451 non-null  float16       \n",
      " 45   S_9          2597808 non-null  float16       \n",
      " 46   B_14         5531451 non-null  float16       \n",
      " 47   D_59         5424726 non-null  float16       \n",
      " 48   D_60         5531451 non-null  float16       \n",
      " 49   D_61         4933399 non-null  float16       \n",
      " 50   B_15         5524528 non-null  float16       \n",
      " 51   S_11         5531451 non-null  float16       \n",
      " 52   D_62         4773290 non-null  float16       \n",
      " 53   D_63         5531451 non-null  category      \n",
      " 54   D_64         5531451 non-null  category      \n",
      " 55   D_65         5531451 non-null  float16       \n",
      " 56   B_16         5529435 non-null  float16       \n",
      " 57   B_17         2393853 non-null  float16       \n",
      " 58   B_18         5531451 non-null  float16       \n",
      " 59   B_19         5529435 non-null  float16       \n",
      " 60   D_66         623354 non-null   category      \n",
      " 61   B_20         5529435 non-null  float16       \n",
      " 62   D_68         5314948 non-null  category      \n",
      " 63   S_12         5531451 non-null  float16       \n",
      " 64   R_6          5531451 non-null  float16       \n",
      " 65   S_13         5531451 non-null  float16       \n",
      " 66   B_21         5531451 non-null  float16       \n",
      " 67   D_69         5336978 non-null  float16       \n",
      " 68   B_22         5529435 non-null  float16       \n",
      " 69   D_70         5436534 non-null  float16       \n",
      " 70   D_71         5531451 non-null  float16       \n",
      " 71   D_72         5507743 non-null  float16       \n",
      " 72   S_15         5531451 non-null  float16       \n",
      " 73   B_23         5531451 non-null  float16       \n",
      " 74   D_73         55856 non-null    float16       \n",
      " 75   P_4          5531451 non-null  float16       \n",
      " 76   D_74         5509678 non-null  float16       \n",
      " 77   D_75         5531451 non-null  float16       \n",
      " 78   D_76         622497 non-null   float16       \n",
      " 79   B_24         5531451 non-null  float16       \n",
      " 80   R_7          5531450 non-null  float16       \n",
      " 81   D_77         3017539 non-null  float16       \n",
      " 82   B_25         5524528 non-null  float16       \n",
      " 83   B_26         5529435 non-null  float16       \n",
      " 84   D_78         5257132 non-null  float16       \n",
      " 85   D_79         5455512 non-null  float16       \n",
      " 86   R_8          5531451 non-null  float16       \n",
      " 87   R_9          312533 non-null   float16       \n",
      " 88   S_16         5531451 non-null  float16       \n",
      " 89   D_80         5509678 non-null  float16       \n",
      " 90   R_10         5531451 non-null  float16       \n",
      " 91   R_11         5531451 non-null  float16       \n",
      " 92   B_27         5529435 non-null  float16       \n",
      " 93   D_81         5505764 non-null  float16       \n",
      " 94   D_82         1472837 non-null  float16       \n",
      " 95   S_17         5531451 non-null  float16       \n",
      " 96   R_12         5531395 non-null  float16       \n",
      " 97   B_28         5531451 non-null  float16       \n",
      " 98   R_13         5531451 non-null  float16       \n",
      " 99   D_83         5336978 non-null  float16       \n",
      " 100  R_14         5531450 non-null  float16       \n",
      " 101  R_15         5531451 non-null  float16       \n",
      " 102  D_84         5501888 non-null  float16       \n",
      " 103  R_16         5531451 non-null  float16       \n",
      " 104  B_29         381416 non-null   float16       \n",
      " 105  B_30         5529435 non-null  category      \n",
      " 106  S_18         5531451 non-null  float16       \n",
      " 107  D_86         5531451 non-null  float16       \n",
      " 108  D_87         3865 non-null     float16       \n",
      " 109  R_17         5531451 non-null  float16       \n",
      " 110  R_18         5531451 non-null  float16       \n",
      " 111  D_88         6004 non-null     float16       \n",
      " 112  B_31         5531451 non-null  float16       \n",
      " 113  S_19         5531451 non-null  float16       \n",
      " 114  R_19         5531451 non-null  float16       \n",
      " 115  B_32         5531451 non-null  float16       \n",
      " 116  S_20         5531451 non-null  float16       \n",
      " 117  R_20         5531376 non-null  float16       \n",
      " 118  R_21         5531451 non-null  float16       \n",
      " 119  B_33         5529435 non-null  float16       \n",
      " 120  D_89         5501888 non-null  float16       \n",
      " 121  R_22         5531451 non-null  float16       \n",
      " 122  R_23         5531451 non-null  float16       \n",
      " 123  D_91         5374235 non-null  float16       \n",
      " 124  D_92         5531451 non-null  float16       \n",
      " 125  D_93         5531451 non-null  float16       \n",
      " 126  D_94         5531451 non-null  float16       \n",
      " 127  R_24         5531451 non-null  float16       \n",
      " 128  R_25         5531451 non-null  float16       \n",
      " 129  D_96         5531451 non-null  float16       \n",
      " 130  S_22         5512427 non-null  float16       \n",
      " 131  S_23         5531006 non-null  float16       \n",
      " 132  S_24         5512858 non-null  float16       \n",
      " 133  S_25         5518604 non-null  float16       \n",
      " 134  S_26         5530817 non-null  float16       \n",
      " 135  D_102        5490796 non-null  float16       \n",
      " 136  D_103        5429903 non-null  float16       \n",
      " 137  D_104        5429903 non-null  float16       \n",
      " 138  D_105        2510020 non-null  float16       \n",
      " 139  D_106        541349 non-null   float16       \n",
      " 140  D_107        5429903 non-null  float16       \n",
      " 141  B_36         5531451 non-null  float16       \n",
      " 142  B_37         5531395 non-null  float16       \n",
      " 143  R_26         609305 non-null   float16       \n",
      " 144  R_27         5402748 non-null  float16       \n",
      " 145  B_38         5529435 non-null  category      \n",
      " 146  D_108        28938 non-null    float16       \n",
      " 147  D_109        5529854 non-null  float16       \n",
      " 148  D_110        31334 non-null    float16       \n",
      " 149  D_111        31334 non-null    float16       \n",
      " 150  B_39         33632 non-null    float16       \n",
      " 151  D_112        5528801 non-null  float16       \n",
      " 152  B_40         5531398 non-null  float16       \n",
      " 153  S_27         4130516 non-null  float16       \n",
      " 154  D_113        5354735 non-null  float16       \n",
      " 155  D_114        5354735 non-null  category      \n",
      " 156  D_115        5354735 non-null  float16       \n",
      " 157  D_116        5354735 non-null  category      \n",
      " 158  D_117        5354735 non-null  category      \n",
      " 159  D_118        5354735 non-null  float16       \n",
      " 160  D_119        5354735 non-null  float16       \n",
      " 161  D_120        5354735 non-null  category      \n",
      " 162  D_121        5354735 non-null  float16       \n",
      " 163  D_122        5354735 non-null  float16       \n",
      " 164  D_123        5354735 non-null  float16       \n",
      " 165  D_124        5354735 non-null  float16       \n",
      " 166  D_125        5354735 non-null  float16       \n",
      " 167  D_126        5414635 non-null  category      \n",
      " 168  D_127        5531451 non-null  float16       \n",
      " 169  D_128        5429903 non-null  float16       \n",
      " 170  D_129        5429903 non-null  float16       \n",
      " 171  B_41         5530761 non-null  float16       \n",
      " 172  B_42         71478 non-null    float16       \n",
      " 173  D_130        5429903 non-null  float16       \n",
      " 174  D_131        5429903 non-null  float16       \n",
      " 175  D_132        542577 non-null   float16       \n",
      " 176  D_133        5488735 non-null  float16       \n",
      " 177  R_28         5531451 non-null  float16       \n",
      " 178  D_134        194699 non-null   float16       \n",
      " 179  D_135        194699 non-null   float16       \n",
      " 180  D_136        194699 non-null   float16       \n",
      " 181  D_137        194699 non-null   float16       \n",
      " 182  D_138        194699 non-null   float16       \n",
      " 183  D_139        5429903 non-null  float16       \n",
      " 184  D_140        5490819 non-null  float16       \n",
      " 185  D_141        5429903 non-null  float16       \n",
      " 186  D_142        944408 non-null   float16       \n",
      " 187  D_143        5429903 non-null  float16       \n",
      " 188  D_144        5490724 non-null  float16       \n",
      " 189  D_145        5429903 non-null  float16       \n",
      " 190  target       5531451 non-null  int64         \n",
      "dtypes: category(11), datetime64[ns](1), float16(177), int64(1), object(1)\n",
      "memory usage: 2.0+ GB\n"
     ]
    }
   ],
   "source": [
    "train_data.info(max_cols=train_data.shape[1] ,show_counts = True)"
   ]
  },
  {
   "cell_type": "code",
   "execution_count": 8,
   "metadata": {},
   "outputs": [
    {
     "data": {
      "text/plain": [
       "customer_ID          0\n",
       "S_2                  0\n",
       "P_2              45985\n",
       "D_39                 0\n",
       "B_1                  0\n",
       "                ...   \n",
       "D_142          4587043\n",
       "D_143           101548\n",
       "D_144            40727\n",
       "D_145           101548\n",
       "target               0\n",
       "Length: 191, dtype: int64"
      ]
     },
     "execution_count": 8,
     "metadata": {},
     "output_type": "execute_result"
    }
   ],
   "source": [
    "train_data.isnull().sum()"
   ]
  },
  {
   "cell_type": "code",
   "execution_count": 6,
   "metadata": {},
   "outputs": [],
   "source": [
    "train_data1 = train_data.groupby('customer_ID').tail(1).set_index('customer_ID')\n",
    "test_data1 = test_data.groupby('customer_ID').tail(1).set_index('customer_ID')\n",
    "\n",
    "del train_data, test_data"
   ]
  },
  {
   "cell_type": "markdown",
   "metadata": {},
   "source": [
    "# EDA\n",
    "## Features weights on dataset"
   ]
  },
  {
   "cell_type": "code",
   "execution_count": 10,
   "metadata": {},
   "outputs": [],
   "source": [
    "def count_features(table: pd.DataFrame) -> dict:\n",
    "    '''\n",
    "    This function stores all columns that belong to each feature from the DataFrame.\n",
    "    '''\n",
    "    features = {'Delinquency':None, 'Spend':None, 'Payment':None, 'Balance':None, 'Risk':None}\n",
    "\n",
    "    for k, v in features.items():\n",
    "        features[k] = len([c for c in table.columns if c.startswith(k[0])])\n",
    "    \n",
    "    return features"
   ]
  },
  {
   "cell_type": "code",
   "execution_count": 11,
   "metadata": {},
   "outputs": [],
   "source": [
    "train_feat = count_features(train_data1)\n",
    "test_feat = count_features(test_data1)"
   ]
  },
  {
   "cell_type": "code",
   "execution_count": 61,
   "metadata": {},
   "outputs": [
    {
     "data": {
      "application/vnd.plotly.v1+json": {
       "config": {
        "plotlyServerURL": "https://plot.ly"
       },
       "data": [
        {
         "domain": {
          "x": [
           0,
           0.45
          ],
          "y": [
           0,
           1
          ]
         },
         "labels": [
          "Delinquency",
          "Spend",
          "Payment",
          "Balance",
          "Risk"
         ],
         "name": "Train",
         "type": "pie",
         "values": [
          96,
          22,
          3,
          40,
          28
         ]
        },
        {
         "domain": {
          "x": [
           0.55,
           1
          ],
          "y": [
           0,
           1
          ]
         },
         "labels": [
          "Delinquency",
          "Spend",
          "Payment",
          "Balance",
          "Risk"
         ],
         "name": "Test",
         "type": "pie",
         "values": [
          96,
          22,
          3,
          40,
          28
         ]
        }
       ],
       "layout": {
        "annotations": [
         {
          "font": {
           "size": 16
          },
          "showarrow": false,
          "text": "Train amount of features",
          "x": 0.225,
          "xanchor": "center",
          "xref": "paper",
          "y": 1,
          "yanchor": "bottom",
          "yref": "paper"
         },
         {
          "font": {
           "size": 16
          },
          "showarrow": false,
          "text": "Test amount of features",
          "x": 0.775,
          "xanchor": "center",
          "xref": "paper",
          "y": 1,
          "yanchor": "bottom",
          "yref": "paper"
         }
        ],
        "template": {
         "data": {
          "bar": [
           {
            "error_x": {
             "color": "#2a3f5f"
            },
            "error_y": {
             "color": "#2a3f5f"
            },
            "marker": {
             "line": {
              "color": "#E5ECF6",
              "width": 0.5
             },
             "pattern": {
              "fillmode": "overlay",
              "size": 10,
              "solidity": 0.2
             }
            },
            "type": "bar"
           }
          ],
          "barpolar": [
           {
            "marker": {
             "line": {
              "color": "#E5ECF6",
              "width": 0.5
             },
             "pattern": {
              "fillmode": "overlay",
              "size": 10,
              "solidity": 0.2
             }
            },
            "type": "barpolar"
           }
          ],
          "carpet": [
           {
            "aaxis": {
             "endlinecolor": "#2a3f5f",
             "gridcolor": "white",
             "linecolor": "white",
             "minorgridcolor": "white",
             "startlinecolor": "#2a3f5f"
            },
            "baxis": {
             "endlinecolor": "#2a3f5f",
             "gridcolor": "white",
             "linecolor": "white",
             "minorgridcolor": "white",
             "startlinecolor": "#2a3f5f"
            },
            "type": "carpet"
           }
          ],
          "choropleth": [
           {
            "colorbar": {
             "outlinewidth": 0,
             "ticks": ""
            },
            "type": "choropleth"
           }
          ],
          "contour": [
           {
            "colorbar": {
             "outlinewidth": 0,
             "ticks": ""
            },
            "colorscale": [
             [
              0,
              "#0d0887"
             ],
             [
              0.1111111111111111,
              "#46039f"
             ],
             [
              0.2222222222222222,
              "#7201a8"
             ],
             [
              0.3333333333333333,
              "#9c179e"
             ],
             [
              0.4444444444444444,
              "#bd3786"
             ],
             [
              0.5555555555555556,
              "#d8576b"
             ],
             [
              0.6666666666666666,
              "#ed7953"
             ],
             [
              0.7777777777777778,
              "#fb9f3a"
             ],
             [
              0.8888888888888888,
              "#fdca26"
             ],
             [
              1,
              "#f0f921"
             ]
            ],
            "type": "contour"
           }
          ],
          "contourcarpet": [
           {
            "colorbar": {
             "outlinewidth": 0,
             "ticks": ""
            },
            "type": "contourcarpet"
           }
          ],
          "heatmap": [
           {
            "colorbar": {
             "outlinewidth": 0,
             "ticks": ""
            },
            "colorscale": [
             [
              0,
              "#0d0887"
             ],
             [
              0.1111111111111111,
              "#46039f"
             ],
             [
              0.2222222222222222,
              "#7201a8"
             ],
             [
              0.3333333333333333,
              "#9c179e"
             ],
             [
              0.4444444444444444,
              "#bd3786"
             ],
             [
              0.5555555555555556,
              "#d8576b"
             ],
             [
              0.6666666666666666,
              "#ed7953"
             ],
             [
              0.7777777777777778,
              "#fb9f3a"
             ],
             [
              0.8888888888888888,
              "#fdca26"
             ],
             [
              1,
              "#f0f921"
             ]
            ],
            "type": "heatmap"
           }
          ],
          "heatmapgl": [
           {
            "colorbar": {
             "outlinewidth": 0,
             "ticks": ""
            },
            "colorscale": [
             [
              0,
              "#0d0887"
             ],
             [
              0.1111111111111111,
              "#46039f"
             ],
             [
              0.2222222222222222,
              "#7201a8"
             ],
             [
              0.3333333333333333,
              "#9c179e"
             ],
             [
              0.4444444444444444,
              "#bd3786"
             ],
             [
              0.5555555555555556,
              "#d8576b"
             ],
             [
              0.6666666666666666,
              "#ed7953"
             ],
             [
              0.7777777777777778,
              "#fb9f3a"
             ],
             [
              0.8888888888888888,
              "#fdca26"
             ],
             [
              1,
              "#f0f921"
             ]
            ],
            "type": "heatmapgl"
           }
          ],
          "histogram": [
           {
            "marker": {
             "pattern": {
              "fillmode": "overlay",
              "size": 10,
              "solidity": 0.2
             }
            },
            "type": "histogram"
           }
          ],
          "histogram2d": [
           {
            "colorbar": {
             "outlinewidth": 0,
             "ticks": ""
            },
            "colorscale": [
             [
              0,
              "#0d0887"
             ],
             [
              0.1111111111111111,
              "#46039f"
             ],
             [
              0.2222222222222222,
              "#7201a8"
             ],
             [
              0.3333333333333333,
              "#9c179e"
             ],
             [
              0.4444444444444444,
              "#bd3786"
             ],
             [
              0.5555555555555556,
              "#d8576b"
             ],
             [
              0.6666666666666666,
              "#ed7953"
             ],
             [
              0.7777777777777778,
              "#fb9f3a"
             ],
             [
              0.8888888888888888,
              "#fdca26"
             ],
             [
              1,
              "#f0f921"
             ]
            ],
            "type": "histogram2d"
           }
          ],
          "histogram2dcontour": [
           {
            "colorbar": {
             "outlinewidth": 0,
             "ticks": ""
            },
            "colorscale": [
             [
              0,
              "#0d0887"
             ],
             [
              0.1111111111111111,
              "#46039f"
             ],
             [
              0.2222222222222222,
              "#7201a8"
             ],
             [
              0.3333333333333333,
              "#9c179e"
             ],
             [
              0.4444444444444444,
              "#bd3786"
             ],
             [
              0.5555555555555556,
              "#d8576b"
             ],
             [
              0.6666666666666666,
              "#ed7953"
             ],
             [
              0.7777777777777778,
              "#fb9f3a"
             ],
             [
              0.8888888888888888,
              "#fdca26"
             ],
             [
              1,
              "#f0f921"
             ]
            ],
            "type": "histogram2dcontour"
           }
          ],
          "mesh3d": [
           {
            "colorbar": {
             "outlinewidth": 0,
             "ticks": ""
            },
            "type": "mesh3d"
           }
          ],
          "parcoords": [
           {
            "line": {
             "colorbar": {
              "outlinewidth": 0,
              "ticks": ""
             }
            },
            "type": "parcoords"
           }
          ],
          "pie": [
           {
            "automargin": true,
            "type": "pie"
           }
          ],
          "scatter": [
           {
            "fillpattern": {
             "fillmode": "overlay",
             "size": 10,
             "solidity": 0.2
            },
            "type": "scatter"
           }
          ],
          "scatter3d": [
           {
            "line": {
             "colorbar": {
              "outlinewidth": 0,
              "ticks": ""
             }
            },
            "marker": {
             "colorbar": {
              "outlinewidth": 0,
              "ticks": ""
             }
            },
            "type": "scatter3d"
           }
          ],
          "scattercarpet": [
           {
            "marker": {
             "colorbar": {
              "outlinewidth": 0,
              "ticks": ""
             }
            },
            "type": "scattercarpet"
           }
          ],
          "scattergeo": [
           {
            "marker": {
             "colorbar": {
              "outlinewidth": 0,
              "ticks": ""
             }
            },
            "type": "scattergeo"
           }
          ],
          "scattergl": [
           {
            "marker": {
             "colorbar": {
              "outlinewidth": 0,
              "ticks": ""
             }
            },
            "type": "scattergl"
           }
          ],
          "scattermapbox": [
           {
            "marker": {
             "colorbar": {
              "outlinewidth": 0,
              "ticks": ""
             }
            },
            "type": "scattermapbox"
           }
          ],
          "scatterpolar": [
           {
            "marker": {
             "colorbar": {
              "outlinewidth": 0,
              "ticks": ""
             }
            },
            "type": "scatterpolar"
           }
          ],
          "scatterpolargl": [
           {
            "marker": {
             "colorbar": {
              "outlinewidth": 0,
              "ticks": ""
             }
            },
            "type": "scatterpolargl"
           }
          ],
          "scatterternary": [
           {
            "marker": {
             "colorbar": {
              "outlinewidth": 0,
              "ticks": ""
             }
            },
            "type": "scatterternary"
           }
          ],
          "surface": [
           {
            "colorbar": {
             "outlinewidth": 0,
             "ticks": ""
            },
            "colorscale": [
             [
              0,
              "#0d0887"
             ],
             [
              0.1111111111111111,
              "#46039f"
             ],
             [
              0.2222222222222222,
              "#7201a8"
             ],
             [
              0.3333333333333333,
              "#9c179e"
             ],
             [
              0.4444444444444444,
              "#bd3786"
             ],
             [
              0.5555555555555556,
              "#d8576b"
             ],
             [
              0.6666666666666666,
              "#ed7953"
             ],
             [
              0.7777777777777778,
              "#fb9f3a"
             ],
             [
              0.8888888888888888,
              "#fdca26"
             ],
             [
              1,
              "#f0f921"
             ]
            ],
            "type": "surface"
           }
          ],
          "table": [
           {
            "cells": {
             "fill": {
              "color": "#EBF0F8"
             },
             "line": {
              "color": "white"
             }
            },
            "header": {
             "fill": {
              "color": "#C8D4E3"
             },
             "line": {
              "color": "white"
             }
            },
            "type": "table"
           }
          ]
         },
         "layout": {
          "annotationdefaults": {
           "arrowcolor": "#2a3f5f",
           "arrowhead": 0,
           "arrowwidth": 1
          },
          "autotypenumbers": "strict",
          "coloraxis": {
           "colorbar": {
            "outlinewidth": 0,
            "ticks": ""
           }
          },
          "colorscale": {
           "diverging": [
            [
             0,
             "#8e0152"
            ],
            [
             0.1,
             "#c51b7d"
            ],
            [
             0.2,
             "#de77ae"
            ],
            [
             0.3,
             "#f1b6da"
            ],
            [
             0.4,
             "#fde0ef"
            ],
            [
             0.5,
             "#f7f7f7"
            ],
            [
             0.6,
             "#e6f5d0"
            ],
            [
             0.7,
             "#b8e186"
            ],
            [
             0.8,
             "#7fbc41"
            ],
            [
             0.9,
             "#4d9221"
            ],
            [
             1,
             "#276419"
            ]
           ],
           "sequential": [
            [
             0,
             "#0d0887"
            ],
            [
             0.1111111111111111,
             "#46039f"
            ],
            [
             0.2222222222222222,
             "#7201a8"
            ],
            [
             0.3333333333333333,
             "#9c179e"
            ],
            [
             0.4444444444444444,
             "#bd3786"
            ],
            [
             0.5555555555555556,
             "#d8576b"
            ],
            [
             0.6666666666666666,
             "#ed7953"
            ],
            [
             0.7777777777777778,
             "#fb9f3a"
            ],
            [
             0.8888888888888888,
             "#fdca26"
            ],
            [
             1,
             "#f0f921"
            ]
           ],
           "sequentialminus": [
            [
             0,
             "#0d0887"
            ],
            [
             0.1111111111111111,
             "#46039f"
            ],
            [
             0.2222222222222222,
             "#7201a8"
            ],
            [
             0.3333333333333333,
             "#9c179e"
            ],
            [
             0.4444444444444444,
             "#bd3786"
            ],
            [
             0.5555555555555556,
             "#d8576b"
            ],
            [
             0.6666666666666666,
             "#ed7953"
            ],
            [
             0.7777777777777778,
             "#fb9f3a"
            ],
            [
             0.8888888888888888,
             "#fdca26"
            ],
            [
             1,
             "#f0f921"
            ]
           ]
          },
          "colorway": [
           "#636efa",
           "#EF553B",
           "#00cc96",
           "#ab63fa",
           "#FFA15A",
           "#19d3f3",
           "#FF6692",
           "#B6E880",
           "#FF97FF",
           "#FECB52"
          ],
          "font": {
           "color": "#2a3f5f"
          },
          "geo": {
           "bgcolor": "white",
           "lakecolor": "white",
           "landcolor": "#E5ECF6",
           "showlakes": true,
           "showland": true,
           "subunitcolor": "white"
          },
          "hoverlabel": {
           "align": "left"
          },
          "hovermode": "closest",
          "mapbox": {
           "style": "light"
          },
          "paper_bgcolor": "white",
          "plot_bgcolor": "#E5ECF6",
          "polar": {
           "angularaxis": {
            "gridcolor": "white",
            "linecolor": "white",
            "ticks": ""
           },
           "bgcolor": "#E5ECF6",
           "radialaxis": {
            "gridcolor": "white",
            "linecolor": "white",
            "ticks": ""
           }
          },
          "scene": {
           "xaxis": {
            "backgroundcolor": "#E5ECF6",
            "gridcolor": "white",
            "gridwidth": 2,
            "linecolor": "white",
            "showbackground": true,
            "ticks": "",
            "zerolinecolor": "white"
           },
           "yaxis": {
            "backgroundcolor": "#E5ECF6",
            "gridcolor": "white",
            "gridwidth": 2,
            "linecolor": "white",
            "showbackground": true,
            "ticks": "",
            "zerolinecolor": "white"
           },
           "zaxis": {
            "backgroundcolor": "#E5ECF6",
            "gridcolor": "white",
            "gridwidth": 2,
            "linecolor": "white",
            "showbackground": true,
            "ticks": "",
            "zerolinecolor": "white"
           }
          },
          "shapedefaults": {
           "line": {
            "color": "#2a3f5f"
           }
          },
          "ternary": {
           "aaxis": {
            "gridcolor": "white",
            "linecolor": "white",
            "ticks": ""
           },
           "baxis": {
            "gridcolor": "white",
            "linecolor": "white",
            "ticks": ""
           },
           "bgcolor": "#E5ECF6",
           "caxis": {
            "gridcolor": "white",
            "linecolor": "white",
            "ticks": ""
           }
          },
          "title": {
           "x": 0.05
          },
          "xaxis": {
           "automargin": true,
           "gridcolor": "white",
           "linecolor": "white",
           "ticks": "",
           "title": {
            "standoff": 15
           },
           "zerolinecolor": "white",
           "zerolinewidth": 2
          },
          "yaxis": {
           "automargin": true,
           "gridcolor": "white",
           "linecolor": "white",
           "ticks": "",
           "title": {
            "standoff": 15
           },
           "zerolinecolor": "white",
           "zerolinewidth": 2
          }
         }
        },
        "title": {
         "text": "Percentage of features"
        }
       }
      }
     },
     "metadata": {},
     "output_type": "display_data"
    }
   ],
   "source": [
    "fig = make_subplots(\n",
    "    rows=1, cols=2,\n",
    "    subplot_titles=('Train amount of features', 'Test amount of features'),\n",
    "    specs=[[{\"type\": \"pie\"}, {\"type\": \"pie\"}]]\n",
    ")\n",
    "\n",
    "fig.add_trace(go.Pie(\n",
    "    labels=tuple(train_feat.keys()), values=tuple(train_feat.values()), name='Train'), row=1, col=1\n",
    "    )\n",
    "\n",
    "fig.add_trace(go.Pie(\n",
    "    labels=tuple(test_feat.keys()), values=tuple(test_feat.values()), name='Test'), row=1, col=2\n",
    "    )\n",
    "\n",
    "fig.update_layout(\n",
    "    title_text='Percentage of features'\n",
    ")\n",
    "\n",
    "fig.show()\n",
    "\n",
    "del train_feat, test_feat"
   ]
  },
  {
   "cell_type": "markdown",
   "metadata": {},
   "source": [
    "Surprisingly whether train or test data share the same distribution of features."
   ]
  },
  {
   "cell_type": "markdown",
   "metadata": {},
   "source": [
    "## Missing data"
   ]
  },
  {
   "cell_type": "code",
   "execution_count": 55,
   "metadata": {},
   "outputs": [],
   "source": [
    "def null_features(table: pd.DataFrame) -> dict:\n",
    "    '''\n",
    "    Finds the percentage of missing data per feature of the DataFrame.\n",
    "    '''\n",
    "    features = {'Delinquency':None, 'Spend':None, 'Payment':None, 'Balance':None, 'Risk':None}\n",
    "\n",
    "    for k, v in features.items():\n",
    "        cols = [c for c in table.columns if c.startswith(k[0])]\n",
    "        temp_df = table[cols]\n",
    "        features[k] = round(np.mean(temp_df.isnull().sum()), 2)\n",
    "    \n",
    "    return features"
   ]
  },
  {
   "cell_type": "code",
   "execution_count": 56,
   "metadata": {},
   "outputs": [],
   "source": [
    "train_miss = null_features(train_data1)\n",
    "test_miss = null_features(test_data1)"
   ]
  },
  {
   "cell_type": "code",
   "execution_count": 58,
   "metadata": {},
   "outputs": [
    {
     "data": {
      "application/vnd.plotly.v1+json": {
       "config": {
        "plotlyServerURL": "https://plot.ly"
       },
       "data": [
        {
         "name": "Train",
         "type": "bar",
         "x": [
          "Delinquency",
          "Spend",
          "Payment",
          "Balance",
          "Risk"
         ],
         "y": [
          104536.16,
          21633.18,
          8396.33,
          39772.45,
          31016.64
         ]
        },
        {
         "name": "Test",
         "type": "bar",
         "x": [
          "Delinquency",
          "Spend",
          "Payment",
          "Balance",
          "Risk"
         ],
         "y": [
          211719.16,
          32416.82,
          11748,
          68961.4,
          60782.54
         ]
        }
       ],
       "layout": {
        "annotations": [
         {
          "font": {
           "size": 16
          },
          "showarrow": false,
          "text": "Train/Test null values per feature",
          "x": 0.5,
          "xanchor": "center",
          "xref": "paper",
          "y": 1,
          "yanchor": "bottom",
          "yref": "paper"
         }
        ],
        "template": {
         "data": {
          "bar": [
           {
            "error_x": {
             "color": "#2a3f5f"
            },
            "error_y": {
             "color": "#2a3f5f"
            },
            "marker": {
             "line": {
              "color": "#E5ECF6",
              "width": 0.5
             },
             "pattern": {
              "fillmode": "overlay",
              "size": 10,
              "solidity": 0.2
             }
            },
            "type": "bar"
           }
          ],
          "barpolar": [
           {
            "marker": {
             "line": {
              "color": "#E5ECF6",
              "width": 0.5
             },
             "pattern": {
              "fillmode": "overlay",
              "size": 10,
              "solidity": 0.2
             }
            },
            "type": "barpolar"
           }
          ],
          "carpet": [
           {
            "aaxis": {
             "endlinecolor": "#2a3f5f",
             "gridcolor": "white",
             "linecolor": "white",
             "minorgridcolor": "white",
             "startlinecolor": "#2a3f5f"
            },
            "baxis": {
             "endlinecolor": "#2a3f5f",
             "gridcolor": "white",
             "linecolor": "white",
             "minorgridcolor": "white",
             "startlinecolor": "#2a3f5f"
            },
            "type": "carpet"
           }
          ],
          "choropleth": [
           {
            "colorbar": {
             "outlinewidth": 0,
             "ticks": ""
            },
            "type": "choropleth"
           }
          ],
          "contour": [
           {
            "colorbar": {
             "outlinewidth": 0,
             "ticks": ""
            },
            "colorscale": [
             [
              0,
              "#0d0887"
             ],
             [
              0.1111111111111111,
              "#46039f"
             ],
             [
              0.2222222222222222,
              "#7201a8"
             ],
             [
              0.3333333333333333,
              "#9c179e"
             ],
             [
              0.4444444444444444,
              "#bd3786"
             ],
             [
              0.5555555555555556,
              "#d8576b"
             ],
             [
              0.6666666666666666,
              "#ed7953"
             ],
             [
              0.7777777777777778,
              "#fb9f3a"
             ],
             [
              0.8888888888888888,
              "#fdca26"
             ],
             [
              1,
              "#f0f921"
             ]
            ],
            "type": "contour"
           }
          ],
          "contourcarpet": [
           {
            "colorbar": {
             "outlinewidth": 0,
             "ticks": ""
            },
            "type": "contourcarpet"
           }
          ],
          "heatmap": [
           {
            "colorbar": {
             "outlinewidth": 0,
             "ticks": ""
            },
            "colorscale": [
             [
              0,
              "#0d0887"
             ],
             [
              0.1111111111111111,
              "#46039f"
             ],
             [
              0.2222222222222222,
              "#7201a8"
             ],
             [
              0.3333333333333333,
              "#9c179e"
             ],
             [
              0.4444444444444444,
              "#bd3786"
             ],
             [
              0.5555555555555556,
              "#d8576b"
             ],
             [
              0.6666666666666666,
              "#ed7953"
             ],
             [
              0.7777777777777778,
              "#fb9f3a"
             ],
             [
              0.8888888888888888,
              "#fdca26"
             ],
             [
              1,
              "#f0f921"
             ]
            ],
            "type": "heatmap"
           }
          ],
          "heatmapgl": [
           {
            "colorbar": {
             "outlinewidth": 0,
             "ticks": ""
            },
            "colorscale": [
             [
              0,
              "#0d0887"
             ],
             [
              0.1111111111111111,
              "#46039f"
             ],
             [
              0.2222222222222222,
              "#7201a8"
             ],
             [
              0.3333333333333333,
              "#9c179e"
             ],
             [
              0.4444444444444444,
              "#bd3786"
             ],
             [
              0.5555555555555556,
              "#d8576b"
             ],
             [
              0.6666666666666666,
              "#ed7953"
             ],
             [
              0.7777777777777778,
              "#fb9f3a"
             ],
             [
              0.8888888888888888,
              "#fdca26"
             ],
             [
              1,
              "#f0f921"
             ]
            ],
            "type": "heatmapgl"
           }
          ],
          "histogram": [
           {
            "marker": {
             "pattern": {
              "fillmode": "overlay",
              "size": 10,
              "solidity": 0.2
             }
            },
            "type": "histogram"
           }
          ],
          "histogram2d": [
           {
            "colorbar": {
             "outlinewidth": 0,
             "ticks": ""
            },
            "colorscale": [
             [
              0,
              "#0d0887"
             ],
             [
              0.1111111111111111,
              "#46039f"
             ],
             [
              0.2222222222222222,
              "#7201a8"
             ],
             [
              0.3333333333333333,
              "#9c179e"
             ],
             [
              0.4444444444444444,
              "#bd3786"
             ],
             [
              0.5555555555555556,
              "#d8576b"
             ],
             [
              0.6666666666666666,
              "#ed7953"
             ],
             [
              0.7777777777777778,
              "#fb9f3a"
             ],
             [
              0.8888888888888888,
              "#fdca26"
             ],
             [
              1,
              "#f0f921"
             ]
            ],
            "type": "histogram2d"
           }
          ],
          "histogram2dcontour": [
           {
            "colorbar": {
             "outlinewidth": 0,
             "ticks": ""
            },
            "colorscale": [
             [
              0,
              "#0d0887"
             ],
             [
              0.1111111111111111,
              "#46039f"
             ],
             [
              0.2222222222222222,
              "#7201a8"
             ],
             [
              0.3333333333333333,
              "#9c179e"
             ],
             [
              0.4444444444444444,
              "#bd3786"
             ],
             [
              0.5555555555555556,
              "#d8576b"
             ],
             [
              0.6666666666666666,
              "#ed7953"
             ],
             [
              0.7777777777777778,
              "#fb9f3a"
             ],
             [
              0.8888888888888888,
              "#fdca26"
             ],
             [
              1,
              "#f0f921"
             ]
            ],
            "type": "histogram2dcontour"
           }
          ],
          "mesh3d": [
           {
            "colorbar": {
             "outlinewidth": 0,
             "ticks": ""
            },
            "type": "mesh3d"
           }
          ],
          "parcoords": [
           {
            "line": {
             "colorbar": {
              "outlinewidth": 0,
              "ticks": ""
             }
            },
            "type": "parcoords"
           }
          ],
          "pie": [
           {
            "automargin": true,
            "type": "pie"
           }
          ],
          "scatter": [
           {
            "fillpattern": {
             "fillmode": "overlay",
             "size": 10,
             "solidity": 0.2
            },
            "type": "scatter"
           }
          ],
          "scatter3d": [
           {
            "line": {
             "colorbar": {
              "outlinewidth": 0,
              "ticks": ""
             }
            },
            "marker": {
             "colorbar": {
              "outlinewidth": 0,
              "ticks": ""
             }
            },
            "type": "scatter3d"
           }
          ],
          "scattercarpet": [
           {
            "marker": {
             "colorbar": {
              "outlinewidth": 0,
              "ticks": ""
             }
            },
            "type": "scattercarpet"
           }
          ],
          "scattergeo": [
           {
            "marker": {
             "colorbar": {
              "outlinewidth": 0,
              "ticks": ""
             }
            },
            "type": "scattergeo"
           }
          ],
          "scattergl": [
           {
            "marker": {
             "colorbar": {
              "outlinewidth": 0,
              "ticks": ""
             }
            },
            "type": "scattergl"
           }
          ],
          "scattermapbox": [
           {
            "marker": {
             "colorbar": {
              "outlinewidth": 0,
              "ticks": ""
             }
            },
            "type": "scattermapbox"
           }
          ],
          "scatterpolar": [
           {
            "marker": {
             "colorbar": {
              "outlinewidth": 0,
              "ticks": ""
             }
            },
            "type": "scatterpolar"
           }
          ],
          "scatterpolargl": [
           {
            "marker": {
             "colorbar": {
              "outlinewidth": 0,
              "ticks": ""
             }
            },
            "type": "scatterpolargl"
           }
          ],
          "scatterternary": [
           {
            "marker": {
             "colorbar": {
              "outlinewidth": 0,
              "ticks": ""
             }
            },
            "type": "scatterternary"
           }
          ],
          "surface": [
           {
            "colorbar": {
             "outlinewidth": 0,
             "ticks": ""
            },
            "colorscale": [
             [
              0,
              "#0d0887"
             ],
             [
              0.1111111111111111,
              "#46039f"
             ],
             [
              0.2222222222222222,
              "#7201a8"
             ],
             [
              0.3333333333333333,
              "#9c179e"
             ],
             [
              0.4444444444444444,
              "#bd3786"
             ],
             [
              0.5555555555555556,
              "#d8576b"
             ],
             [
              0.6666666666666666,
              "#ed7953"
             ],
             [
              0.7777777777777778,
              "#fb9f3a"
             ],
             [
              0.8888888888888888,
              "#fdca26"
             ],
             [
              1,
              "#f0f921"
             ]
            ],
            "type": "surface"
           }
          ],
          "table": [
           {
            "cells": {
             "fill": {
              "color": "#EBF0F8"
             },
             "line": {
              "color": "white"
             }
            },
            "header": {
             "fill": {
              "color": "#C8D4E3"
             },
             "line": {
              "color": "white"
             }
            },
            "type": "table"
           }
          ]
         },
         "layout": {
          "annotationdefaults": {
           "arrowcolor": "#2a3f5f",
           "arrowhead": 0,
           "arrowwidth": 1
          },
          "autotypenumbers": "strict",
          "coloraxis": {
           "colorbar": {
            "outlinewidth": 0,
            "ticks": ""
           }
          },
          "colorscale": {
           "diverging": [
            [
             0,
             "#8e0152"
            ],
            [
             0.1,
             "#c51b7d"
            ],
            [
             0.2,
             "#de77ae"
            ],
            [
             0.3,
             "#f1b6da"
            ],
            [
             0.4,
             "#fde0ef"
            ],
            [
             0.5,
             "#f7f7f7"
            ],
            [
             0.6,
             "#e6f5d0"
            ],
            [
             0.7,
             "#b8e186"
            ],
            [
             0.8,
             "#7fbc41"
            ],
            [
             0.9,
             "#4d9221"
            ],
            [
             1,
             "#276419"
            ]
           ],
           "sequential": [
            [
             0,
             "#0d0887"
            ],
            [
             0.1111111111111111,
             "#46039f"
            ],
            [
             0.2222222222222222,
             "#7201a8"
            ],
            [
             0.3333333333333333,
             "#9c179e"
            ],
            [
             0.4444444444444444,
             "#bd3786"
            ],
            [
             0.5555555555555556,
             "#d8576b"
            ],
            [
             0.6666666666666666,
             "#ed7953"
            ],
            [
             0.7777777777777778,
             "#fb9f3a"
            ],
            [
             0.8888888888888888,
             "#fdca26"
            ],
            [
             1,
             "#f0f921"
            ]
           ],
           "sequentialminus": [
            [
             0,
             "#0d0887"
            ],
            [
             0.1111111111111111,
             "#46039f"
            ],
            [
             0.2222222222222222,
             "#7201a8"
            ],
            [
             0.3333333333333333,
             "#9c179e"
            ],
            [
             0.4444444444444444,
             "#bd3786"
            ],
            [
             0.5555555555555556,
             "#d8576b"
            ],
            [
             0.6666666666666666,
             "#ed7953"
            ],
            [
             0.7777777777777778,
             "#fb9f3a"
            ],
            [
             0.8888888888888888,
             "#fdca26"
            ],
            [
             1,
             "#f0f921"
            ]
           ]
          },
          "colorway": [
           "#636efa",
           "#EF553B",
           "#00cc96",
           "#ab63fa",
           "#FFA15A",
           "#19d3f3",
           "#FF6692",
           "#B6E880",
           "#FF97FF",
           "#FECB52"
          ],
          "font": {
           "color": "#2a3f5f"
          },
          "geo": {
           "bgcolor": "white",
           "lakecolor": "white",
           "landcolor": "#E5ECF6",
           "showlakes": true,
           "showland": true,
           "subunitcolor": "white"
          },
          "hoverlabel": {
           "align": "left"
          },
          "hovermode": "closest",
          "mapbox": {
           "style": "light"
          },
          "paper_bgcolor": "white",
          "plot_bgcolor": "#E5ECF6",
          "polar": {
           "angularaxis": {
            "gridcolor": "white",
            "linecolor": "white",
            "ticks": ""
           },
           "bgcolor": "#E5ECF6",
           "radialaxis": {
            "gridcolor": "white",
            "linecolor": "white",
            "ticks": ""
           }
          },
          "scene": {
           "xaxis": {
            "backgroundcolor": "#E5ECF6",
            "gridcolor": "white",
            "gridwidth": 2,
            "linecolor": "white",
            "showbackground": true,
            "ticks": "",
            "zerolinecolor": "white"
           },
           "yaxis": {
            "backgroundcolor": "#E5ECF6",
            "gridcolor": "white",
            "gridwidth": 2,
            "linecolor": "white",
            "showbackground": true,
            "ticks": "",
            "zerolinecolor": "white"
           },
           "zaxis": {
            "backgroundcolor": "#E5ECF6",
            "gridcolor": "white",
            "gridwidth": 2,
            "linecolor": "white",
            "showbackground": true,
            "ticks": "",
            "zerolinecolor": "white"
           }
          },
          "shapedefaults": {
           "line": {
            "color": "#2a3f5f"
           }
          },
          "ternary": {
           "aaxis": {
            "gridcolor": "white",
            "linecolor": "white",
            "ticks": ""
           },
           "baxis": {
            "gridcolor": "white",
            "linecolor": "white",
            "ticks": ""
           },
           "bgcolor": "#E5ECF6",
           "caxis": {
            "gridcolor": "white",
            "linecolor": "white",
            "ticks": ""
           }
          },
          "title": {
           "x": 0.05
          },
          "xaxis": {
           "automargin": true,
           "gridcolor": "white",
           "linecolor": "white",
           "ticks": "",
           "title": {
            "standoff": 15
           },
           "zerolinecolor": "white",
           "zerolinewidth": 2
          },
          "yaxis": {
           "automargin": true,
           "gridcolor": "white",
           "linecolor": "white",
           "ticks": "",
           "title": {
            "standoff": 15
           },
           "zerolinecolor": "white",
           "zerolinewidth": 2
          }
         }
        },
        "title": {
         "text": "Mean presence of null values"
        },
        "xaxis": {
         "anchor": "y",
         "domain": [
          0,
          1
         ]
        },
        "yaxis": {
         "anchor": "x",
         "domain": [
          0,
          1
         ]
        }
       }
      }
     },
     "metadata": {},
     "output_type": "display_data"
    }
   ],
   "source": [
    "fig = make_subplots(\n",
    "    rows=1, cols=1,\n",
    "    subplot_titles=('Train/Test null values per feature', ''),\n",
    "    specs=[[{\"type\": \"bar\"}]]\n",
    ")\n",
    "\n",
    "fig.add_trace(go.Bar(\n",
    "    x=tuple(train_miss.keys()), y=tuple(train_miss.values()), name='Train'\n",
    "))\n",
    "fig.add_trace(go.Bar(\n",
    "    x=tuple(test_miss.keys()), y=tuple(test_miss.values()), name='Test'\n",
    "))\n",
    "\n",
    "fig.update_layout(\n",
    "    title_text='Mean presence of null values'\n",
    ")\n",
    "\n",
    "fig.show()\n",
    "\n",
    "del train_miss, test_miss"
   ]
  },
  {
   "cell_type": "markdown",
   "metadata": {},
   "source": [
    "## Target balance"
   ]
  },
  {
   "cell_type": "code",
   "execution_count": 45,
   "metadata": {},
   "outputs": [],
   "source": [
    "target = train_data[\"target\"].value_counts()\n",
    "target_0 = round((target[0]/train_data['target'].count()*100), 2)\n",
    "target_1 = round((target[1]/train_data['target'].count()*100), 2)\n",
    "\n",
    "df_target_percentage = pd.DataFrame(data={'Target':['0', '1'], 'Percentage':[target_0, target_1]})"
   ]
  },
  {
   "cell_type": "code",
   "execution_count": 46,
   "metadata": {},
   "outputs": [
    {
     "data": {
      "application/vnd.plotly.v1+json": {
       "config": {
        "plotlyServerURL": "https://plot.ly"
       },
       "data": [
        {
         "alignmentgroup": "True",
         "hovertemplate": "Target=%{x}<br>Percentage=%{y}<extra></extra>",
         "legendgroup": "0",
         "marker": {
          "color": "#636efa",
          "pattern": {
           "shape": ""
          }
         },
         "name": "0",
         "offsetgroup": "0",
         "orientation": "v",
         "showlegend": true,
         "textposition": "auto",
         "type": "bar",
         "x": [
          "0"
         ],
         "xaxis": "x",
         "y": [
          75.09
         ],
         "yaxis": "y"
        },
        {
         "alignmentgroup": "True",
         "hovertemplate": "Target=%{x}<br>Percentage=%{y}<extra></extra>",
         "legendgroup": "1",
         "marker": {
          "color": "#EF553B",
          "pattern": {
           "shape": ""
          }
         },
         "name": "1",
         "offsetgroup": "1",
         "orientation": "v",
         "showlegend": true,
         "textposition": "auto",
         "type": "bar",
         "x": [
          "1"
         ],
         "xaxis": "x",
         "y": [
          24.91
         ],
         "yaxis": "y"
        }
       ],
       "layout": {
        "barmode": "relative",
        "legend": {
         "title": {
          "text": "Target"
         },
         "tracegroupgap": 0
        },
        "template": {
         "data": {
          "bar": [
           {
            "error_x": {
             "color": "#2a3f5f"
            },
            "error_y": {
             "color": "#2a3f5f"
            },
            "marker": {
             "line": {
              "color": "#E5ECF6",
              "width": 0.5
             },
             "pattern": {
              "fillmode": "overlay",
              "size": 10,
              "solidity": 0.2
             }
            },
            "type": "bar"
           }
          ],
          "barpolar": [
           {
            "marker": {
             "line": {
              "color": "#E5ECF6",
              "width": 0.5
             },
             "pattern": {
              "fillmode": "overlay",
              "size": 10,
              "solidity": 0.2
             }
            },
            "type": "barpolar"
           }
          ],
          "carpet": [
           {
            "aaxis": {
             "endlinecolor": "#2a3f5f",
             "gridcolor": "white",
             "linecolor": "white",
             "minorgridcolor": "white",
             "startlinecolor": "#2a3f5f"
            },
            "baxis": {
             "endlinecolor": "#2a3f5f",
             "gridcolor": "white",
             "linecolor": "white",
             "minorgridcolor": "white",
             "startlinecolor": "#2a3f5f"
            },
            "type": "carpet"
           }
          ],
          "choropleth": [
           {
            "colorbar": {
             "outlinewidth": 0,
             "ticks": ""
            },
            "type": "choropleth"
           }
          ],
          "contour": [
           {
            "colorbar": {
             "outlinewidth": 0,
             "ticks": ""
            },
            "colorscale": [
             [
              0,
              "#0d0887"
             ],
             [
              0.1111111111111111,
              "#46039f"
             ],
             [
              0.2222222222222222,
              "#7201a8"
             ],
             [
              0.3333333333333333,
              "#9c179e"
             ],
             [
              0.4444444444444444,
              "#bd3786"
             ],
             [
              0.5555555555555556,
              "#d8576b"
             ],
             [
              0.6666666666666666,
              "#ed7953"
             ],
             [
              0.7777777777777778,
              "#fb9f3a"
             ],
             [
              0.8888888888888888,
              "#fdca26"
             ],
             [
              1,
              "#f0f921"
             ]
            ],
            "type": "contour"
           }
          ],
          "contourcarpet": [
           {
            "colorbar": {
             "outlinewidth": 0,
             "ticks": ""
            },
            "type": "contourcarpet"
           }
          ],
          "heatmap": [
           {
            "colorbar": {
             "outlinewidth": 0,
             "ticks": ""
            },
            "colorscale": [
             [
              0,
              "#0d0887"
             ],
             [
              0.1111111111111111,
              "#46039f"
             ],
             [
              0.2222222222222222,
              "#7201a8"
             ],
             [
              0.3333333333333333,
              "#9c179e"
             ],
             [
              0.4444444444444444,
              "#bd3786"
             ],
             [
              0.5555555555555556,
              "#d8576b"
             ],
             [
              0.6666666666666666,
              "#ed7953"
             ],
             [
              0.7777777777777778,
              "#fb9f3a"
             ],
             [
              0.8888888888888888,
              "#fdca26"
             ],
             [
              1,
              "#f0f921"
             ]
            ],
            "type": "heatmap"
           }
          ],
          "heatmapgl": [
           {
            "colorbar": {
             "outlinewidth": 0,
             "ticks": ""
            },
            "colorscale": [
             [
              0,
              "#0d0887"
             ],
             [
              0.1111111111111111,
              "#46039f"
             ],
             [
              0.2222222222222222,
              "#7201a8"
             ],
             [
              0.3333333333333333,
              "#9c179e"
             ],
             [
              0.4444444444444444,
              "#bd3786"
             ],
             [
              0.5555555555555556,
              "#d8576b"
             ],
             [
              0.6666666666666666,
              "#ed7953"
             ],
             [
              0.7777777777777778,
              "#fb9f3a"
             ],
             [
              0.8888888888888888,
              "#fdca26"
             ],
             [
              1,
              "#f0f921"
             ]
            ],
            "type": "heatmapgl"
           }
          ],
          "histogram": [
           {
            "marker": {
             "pattern": {
              "fillmode": "overlay",
              "size": 10,
              "solidity": 0.2
             }
            },
            "type": "histogram"
           }
          ],
          "histogram2d": [
           {
            "colorbar": {
             "outlinewidth": 0,
             "ticks": ""
            },
            "colorscale": [
             [
              0,
              "#0d0887"
             ],
             [
              0.1111111111111111,
              "#46039f"
             ],
             [
              0.2222222222222222,
              "#7201a8"
             ],
             [
              0.3333333333333333,
              "#9c179e"
             ],
             [
              0.4444444444444444,
              "#bd3786"
             ],
             [
              0.5555555555555556,
              "#d8576b"
             ],
             [
              0.6666666666666666,
              "#ed7953"
             ],
             [
              0.7777777777777778,
              "#fb9f3a"
             ],
             [
              0.8888888888888888,
              "#fdca26"
             ],
             [
              1,
              "#f0f921"
             ]
            ],
            "type": "histogram2d"
           }
          ],
          "histogram2dcontour": [
           {
            "colorbar": {
             "outlinewidth": 0,
             "ticks": ""
            },
            "colorscale": [
             [
              0,
              "#0d0887"
             ],
             [
              0.1111111111111111,
              "#46039f"
             ],
             [
              0.2222222222222222,
              "#7201a8"
             ],
             [
              0.3333333333333333,
              "#9c179e"
             ],
             [
              0.4444444444444444,
              "#bd3786"
             ],
             [
              0.5555555555555556,
              "#d8576b"
             ],
             [
              0.6666666666666666,
              "#ed7953"
             ],
             [
              0.7777777777777778,
              "#fb9f3a"
             ],
             [
              0.8888888888888888,
              "#fdca26"
             ],
             [
              1,
              "#f0f921"
             ]
            ],
            "type": "histogram2dcontour"
           }
          ],
          "mesh3d": [
           {
            "colorbar": {
             "outlinewidth": 0,
             "ticks": ""
            },
            "type": "mesh3d"
           }
          ],
          "parcoords": [
           {
            "line": {
             "colorbar": {
              "outlinewidth": 0,
              "ticks": ""
             }
            },
            "type": "parcoords"
           }
          ],
          "pie": [
           {
            "automargin": true,
            "type": "pie"
           }
          ],
          "scatter": [
           {
            "fillpattern": {
             "fillmode": "overlay",
             "size": 10,
             "solidity": 0.2
            },
            "type": "scatter"
           }
          ],
          "scatter3d": [
           {
            "line": {
             "colorbar": {
              "outlinewidth": 0,
              "ticks": ""
             }
            },
            "marker": {
             "colorbar": {
              "outlinewidth": 0,
              "ticks": ""
             }
            },
            "type": "scatter3d"
           }
          ],
          "scattercarpet": [
           {
            "marker": {
             "colorbar": {
              "outlinewidth": 0,
              "ticks": ""
             }
            },
            "type": "scattercarpet"
           }
          ],
          "scattergeo": [
           {
            "marker": {
             "colorbar": {
              "outlinewidth": 0,
              "ticks": ""
             }
            },
            "type": "scattergeo"
           }
          ],
          "scattergl": [
           {
            "marker": {
             "colorbar": {
              "outlinewidth": 0,
              "ticks": ""
             }
            },
            "type": "scattergl"
           }
          ],
          "scattermapbox": [
           {
            "marker": {
             "colorbar": {
              "outlinewidth": 0,
              "ticks": ""
             }
            },
            "type": "scattermapbox"
           }
          ],
          "scatterpolar": [
           {
            "marker": {
             "colorbar": {
              "outlinewidth": 0,
              "ticks": ""
             }
            },
            "type": "scatterpolar"
           }
          ],
          "scatterpolargl": [
           {
            "marker": {
             "colorbar": {
              "outlinewidth": 0,
              "ticks": ""
             }
            },
            "type": "scatterpolargl"
           }
          ],
          "scatterternary": [
           {
            "marker": {
             "colorbar": {
              "outlinewidth": 0,
              "ticks": ""
             }
            },
            "type": "scatterternary"
           }
          ],
          "surface": [
           {
            "colorbar": {
             "outlinewidth": 0,
             "ticks": ""
            },
            "colorscale": [
             [
              0,
              "#0d0887"
             ],
             [
              0.1111111111111111,
              "#46039f"
             ],
             [
              0.2222222222222222,
              "#7201a8"
             ],
             [
              0.3333333333333333,
              "#9c179e"
             ],
             [
              0.4444444444444444,
              "#bd3786"
             ],
             [
              0.5555555555555556,
              "#d8576b"
             ],
             [
              0.6666666666666666,
              "#ed7953"
             ],
             [
              0.7777777777777778,
              "#fb9f3a"
             ],
             [
              0.8888888888888888,
              "#fdca26"
             ],
             [
              1,
              "#f0f921"
             ]
            ],
            "type": "surface"
           }
          ],
          "table": [
           {
            "cells": {
             "fill": {
              "color": "#EBF0F8"
             },
             "line": {
              "color": "white"
             }
            },
            "header": {
             "fill": {
              "color": "#C8D4E3"
             },
             "line": {
              "color": "white"
             }
            },
            "type": "table"
           }
          ]
         },
         "layout": {
          "annotationdefaults": {
           "arrowcolor": "#2a3f5f",
           "arrowhead": 0,
           "arrowwidth": 1
          },
          "autotypenumbers": "strict",
          "coloraxis": {
           "colorbar": {
            "outlinewidth": 0,
            "ticks": ""
           }
          },
          "colorscale": {
           "diverging": [
            [
             0,
             "#8e0152"
            ],
            [
             0.1,
             "#c51b7d"
            ],
            [
             0.2,
             "#de77ae"
            ],
            [
             0.3,
             "#f1b6da"
            ],
            [
             0.4,
             "#fde0ef"
            ],
            [
             0.5,
             "#f7f7f7"
            ],
            [
             0.6,
             "#e6f5d0"
            ],
            [
             0.7,
             "#b8e186"
            ],
            [
             0.8,
             "#7fbc41"
            ],
            [
             0.9,
             "#4d9221"
            ],
            [
             1,
             "#276419"
            ]
           ],
           "sequential": [
            [
             0,
             "#0d0887"
            ],
            [
             0.1111111111111111,
             "#46039f"
            ],
            [
             0.2222222222222222,
             "#7201a8"
            ],
            [
             0.3333333333333333,
             "#9c179e"
            ],
            [
             0.4444444444444444,
             "#bd3786"
            ],
            [
             0.5555555555555556,
             "#d8576b"
            ],
            [
             0.6666666666666666,
             "#ed7953"
            ],
            [
             0.7777777777777778,
             "#fb9f3a"
            ],
            [
             0.8888888888888888,
             "#fdca26"
            ],
            [
             1,
             "#f0f921"
            ]
           ],
           "sequentialminus": [
            [
             0,
             "#0d0887"
            ],
            [
             0.1111111111111111,
             "#46039f"
            ],
            [
             0.2222222222222222,
             "#7201a8"
            ],
            [
             0.3333333333333333,
             "#9c179e"
            ],
            [
             0.4444444444444444,
             "#bd3786"
            ],
            [
             0.5555555555555556,
             "#d8576b"
            ],
            [
             0.6666666666666666,
             "#ed7953"
            ],
            [
             0.7777777777777778,
             "#fb9f3a"
            ],
            [
             0.8888888888888888,
             "#fdca26"
            ],
            [
             1,
             "#f0f921"
            ]
           ]
          },
          "colorway": [
           "#636efa",
           "#EF553B",
           "#00cc96",
           "#ab63fa",
           "#FFA15A",
           "#19d3f3",
           "#FF6692",
           "#B6E880",
           "#FF97FF",
           "#FECB52"
          ],
          "font": {
           "color": "#2a3f5f"
          },
          "geo": {
           "bgcolor": "white",
           "lakecolor": "white",
           "landcolor": "#E5ECF6",
           "showlakes": true,
           "showland": true,
           "subunitcolor": "white"
          },
          "hoverlabel": {
           "align": "left"
          },
          "hovermode": "closest",
          "mapbox": {
           "style": "light"
          },
          "paper_bgcolor": "white",
          "plot_bgcolor": "#E5ECF6",
          "polar": {
           "angularaxis": {
            "gridcolor": "white",
            "linecolor": "white",
            "ticks": ""
           },
           "bgcolor": "#E5ECF6",
           "radialaxis": {
            "gridcolor": "white",
            "linecolor": "white",
            "ticks": ""
           }
          },
          "scene": {
           "xaxis": {
            "backgroundcolor": "#E5ECF6",
            "gridcolor": "white",
            "gridwidth": 2,
            "linecolor": "white",
            "showbackground": true,
            "ticks": "",
            "zerolinecolor": "white"
           },
           "yaxis": {
            "backgroundcolor": "#E5ECF6",
            "gridcolor": "white",
            "gridwidth": 2,
            "linecolor": "white",
            "showbackground": true,
            "ticks": "",
            "zerolinecolor": "white"
           },
           "zaxis": {
            "backgroundcolor": "#E5ECF6",
            "gridcolor": "white",
            "gridwidth": 2,
            "linecolor": "white",
            "showbackground": true,
            "ticks": "",
            "zerolinecolor": "white"
           }
          },
          "shapedefaults": {
           "line": {
            "color": "#2a3f5f"
           }
          },
          "ternary": {
           "aaxis": {
            "gridcolor": "white",
            "linecolor": "white",
            "ticks": ""
           },
           "baxis": {
            "gridcolor": "white",
            "linecolor": "white",
            "ticks": ""
           },
           "bgcolor": "#E5ECF6",
           "caxis": {
            "gridcolor": "white",
            "linecolor": "white",
            "ticks": ""
           }
          },
          "title": {
           "x": 0.05
          },
          "xaxis": {
           "automargin": true,
           "gridcolor": "white",
           "linecolor": "white",
           "ticks": "",
           "title": {
            "standoff": 15
           },
           "zerolinecolor": "white",
           "zerolinewidth": 2
          },
          "yaxis": {
           "automargin": true,
           "gridcolor": "white",
           "linecolor": "white",
           "ticks": "",
           "title": {
            "standoff": 15
           },
           "zerolinecolor": "white",
           "zerolinewidth": 2
          }
         }
        },
        "title": {
         "text": "Target distribution percentage"
        },
        "xaxis": {
         "anchor": "y",
         "categoryarray": [
          "0",
          "1"
         ],
         "categoryorder": "array",
         "domain": [
          0,
          1
         ],
         "title": {
          "text": "Target"
         }
        },
        "yaxis": {
         "anchor": "x",
         "domain": [
          0,
          1
         ],
         "title": {
          "text": "Percentage"
         }
        }
       }
      }
     },
     "metadata": {},
     "output_type": "display_data"
    }
   ],
   "source": [
    "fig = px.bar(df_target_percentage, x='Target', y='Percentage', color='Target', title=\"Target distribution percentage\")\n",
    "fig.update_layout()\n",
    "fig.show()\n",
    "\n",
    "del target, target_0, target_1, df_target_percentage"
   ]
  },
  {
   "cell_type": "code",
   "execution_count": 79,
   "metadata": {},
   "outputs": [
    {
     "name": "stdout",
     "output_type": "stream",
     "text": [
      "Number of unique customers in train: 458913\n",
      "Represent the 8.3% of the train data.\n",
      "\n",
      "Each customer appear in the data around 12.05 times\n"
     ]
    }
   ],
   "source": [
    "print(f'Number of unique customers in train: {train_data[\"customer_ID\"].nunique()}')\n",
    "print(f'Represent the {round((train_data[\"customer_ID\"].nunique()/len(train_data))*100, 2)}% of the train data.')\n",
    "print()\n",
    "print(f'Each customer appear in the data around {round(len(train_data)/train_data[\"customer_ID\"].nunique(), 2)} times')"
   ]
  },
  {
   "cell_type": "markdown",
   "metadata": {},
   "source": [
    "## Feature correlation"
   ]
  },
  {
   "cell_type": "code",
   "execution_count": 105,
   "metadata": {},
   "outputs": [],
   "source": [
    "Delinquency = train_data1[[c for c in train_data1.columns if c.startswith('D')] +  ['target']]\n",
    "Spend       = train_data1[[c for c in train_data1.columns if c.startswith('S')] +  ['target']]\n",
    "Payment     = train_data1[[c for c in train_data1.columns if c.startswith('P')] +  ['target']]\n",
    "Balance     = train_data1[[c for c in train_data1.columns if c.startswith('B')] +  ['target']]\n",
    "Risk        = train_data1[[c for c in train_data1.columns if c.startswith('R')] +  ['target']]"
   ]
  },
  {
   "cell_type": "code",
   "execution_count": 76,
   "metadata": {},
   "outputs": [],
   "source": [
    "def plot_corr(table: pd.DataFrame, title: str, size: tuple = (12,9), annot: str = False):\n",
    "    plt.figure(figsize=size)\n",
    "    sns.heatmap(\n",
    "        table.corr(),\n",
    "        annot=annot,\n",
    "        cmap='coolwarm'\n",
    "    )\n",
    "    plt.title(title, fontdict={'fontsize': 18});"
   ]
  },
  {
   "cell_type": "code",
   "execution_count": 77,
   "metadata": {},
   "outputs": [
    {
     "data": {
      "image/png": "[encoded data removed]",
      "text/plain": [
       "<Figure size 864x648 with 2 Axes>"
      ]
     },
     "metadata": {
      "needs_background": "light"
     },
     "output_type": "display_data"
    }
   ],
   "source": [
    "plot_corr(Delinquency.corr(), title='Delinquency correlation')"
   ]
  },
  {
   "cell_type": "code",
   "execution_count": 78,
   "metadata": {},
   "outputs": [
    {
     "data": {
      "image/png": "[encoded data removed]",
      "text/plain": [
       "<Figure size 864x648 with 2 Axes>"
      ]
     },
     "metadata": {
      "needs_background": "light"
     },
     "output_type": "display_data"
    }
   ],
   "source": [
    "plot_corr(Spend.corr(), title='Spend correlation')"
   ]
  },
  {
   "cell_type": "code",
   "execution_count": 79,
   "metadata": {},
   "outputs": [
    {
     "data": {
      "image/png": "[encoded data removed]",
      "text/plain": [
       "<Figure size 864x648 with 2 Axes>"
      ]
     },
     "metadata": {
      "needs_background": "light"
     },
     "output_type": "display_data"
    }
   ],
   "source": [
    "plot_corr(Payment.corr(), title='Payment correlation', annot=True)"
   ]
  },
  {
   "cell_type": "code",
   "execution_count": 80,
   "metadata": {},
   "outputs": [
    {
     "data": {
      "image/png": "[encoded data removed]",
      "text/plain": [
       "<Figure size 864x648 with 2 Axes>"
      ]
     },
     "metadata": {
      "needs_background": "light"
     },
     "output_type": "display_data"
    }
   ],
   "source": [
    "plot_corr(Balance.corr(), title='Balance correlation')"
   ]
  },
  {
   "cell_type": "code",
   "execution_count": 81,
   "metadata": {},
   "outputs": [
    {
     "data": {
      "image/png": "[encoded data removed]",
      "text/plain": [
       "<Figure size 864x648 with 2 Axes>"
      ]
     },
     "metadata": {
      "needs_background": "light"
     },
     "output_type": "display_data"
    }
   ],
   "source": [
    "plot_corr(Risk.corr(), title='Risk correlation')"
   ]
  },
  {
   "cell_type": "code",
   "execution_count": null,
   "metadata": {},
   "outputs": [],
   "source": [
    "del Delinquency, Spend, Payment, Balance, Risk"
   ]
  },
  {
   "cell_type": "code",
   "execution_count": 83,
   "metadata": {},
   "outputs": [
    {
     "data": {
      "application/vnd.plotly.v1+json": {
       "config": {
        "plotlyServerURL": "https://plot.ly"
       },
       "data": [
        {
         "orientation": "h",
         "text": [
          "-70.0%",
          "30.0%",
          "40.0%",
          "-60.0%",
          "50.0%",
          "30.0%",
          "40.0%",
          "50.0%",
          "30.0%",
          "30.0%",
          "50.0%",
          "50.0%",
          "-30.0%",
          "-10.0%",
          "40.0%",
          "20.0%",
          "-30.0%",
          "60.0%",
          "-0.0%",
          "-10.0%",
          "50.0%",
          "30.0%",
          "-10.0%",
          "-30.0%",
          "50.0%",
          "30.0%",
          "-20.0%",
          "-40.0%",
          "-0.0%",
          "30.0%",
          "0.0%",
          "40.0%",
          "-10.0%",
          "-30.0%",
          "40.0%",
          "30.0%",
          "-0.0%",
          "-20.0%",
          "50.0%",
          "-20.0%",
          "-0.0%",
          "30.0%",
          "50.0%",
          "10.0%",
          "10.0%",
          "20.0%",
          "-10.0%",
          "50.0%",
          "0.0%",
          "-10.0%",
          "-40.0%",
          "10.0%",
          "50.0%",
          "30.0%",
          "-50.0%",
          "50.0%",
          "50.0%",
          "-0.0%",
          "20.0%",
          "-20.0%",
          "10.0%",
          "0.0%",
          "40.0%",
          "30.0%",
          "-10.0%",
          "20.0%",
          "20.0%",
          "50.0%",
          "-10.0%",
          "20.0%",
          "50.0%",
          "50.0%",
          "-10.0%",
          "10.0%",
          "10.0%",
          "-30.0%",
          "20.0%",
          "0.0%",
          "30.0%",
          "20.0%",
          "20.0%",
          "-0.0%",
          "10.0%",
          "10.0%",
          "30.0%",
          "10.0%",
          "0.0%",
          "30.0%",
          "0.0%",
          "0.0%",
          "-20.0%",
          "30.0%",
          "20.0%",
          "10.0%",
          "0.0%",
          "20.0%",
          "30.0%",
          "10.0%",
          "10.0%",
          "-0.0%",
          "-10.0%",
          "nan%",
          "10.0%",
          "0.0%",
          "20.0%",
          "-10.0%",
          "0.0%",
          "10.0%",
          "10.0%",
          "10.0%",
          "20.0%",
          "20.0%",
          "-50.0%",
          "20.0%",
          "10.0%",
          "0.0%",
          "-10.0%",
          "-20.0%",
          "-0.0%",
          "-10.0%",
          "20.0%",
          "10.0%",
          "-10.0%",
          "10.0%",
          "10.0%",
          "10.0%",
          "-30.0%",
          "-0.0%",
          "0.0%",
          "10.0%",
          "10.0%",
          "-0.0%",
          "-0.0%",
          "10.0%",
          "0.0%",
          "40.0%",
          "10.0%",
          "-30.0%",
          "10.0%",
          "-0.0%",
          "10.0%",
          "10.0%",
          "-10.0%",
          "-30.0%",
          "0.0%",
          "-10.0%",
          "20.0%",
          "-20.0%",
          "-20.0%",
          "-20.0%",
          "-20.0%",
          "-20.0%",
          "10.0%",
          "10.0%",
          "10.0%",
          "-20.0%",
          "-20.0%",
          "-10.0%",
          "10.0%",
          "-10.0%",
          "20.0%",
          "30.0%",
          "-10.0%",
          "20.0%",
          "0.0%",
          "-0.0%",
          "-0.0%",
          "0.0%",
          "-0.0%",
          "0.0%",
          "10.0%",
          "10.0%",
          "10.0%",
          "-10.0%",
          "10.0%",
          "-0.0%",
          "10.0%",
          "100.0%"
         ],
         "type": "bar",
         "x": [
          -0.6672919435216281,
          0.3394781638291732,
          0.44942609777796805,
          -0.5576965194202013,
          0.47352918417334483,
          0.3409993186372731,
          0.37755877178679226,
          0.5068335132240223,
          0.3018585926003529,
          0.29001892383190436,
          0.530538480715662,
          0.4621072944175019,
          -0.25999701474204717,
          -0.08272045722105058,
          0.41621217618636674,
          0.1593600353404802,
          -0.28732497594624234,
          0.6123574320811701,
          -0.02716204375537408,
          -0.08234368524001992,
          0.501941660831264,
          0.30937885183406827,
          -0.07599021449543059,
          -0.2682856602425844,
          0.5405642467055584,
          0.27231955038853356,
          -0.22861505626514983,
          -0.35344204156415654,
          -0.025843326061592287,
          0.3001580603945169,
          0.042202810619723204,
          0.4271346457756836,
          -0.1276486979553114,
          -0.2772639844246327,
          0.3502088203964739,
          0.34740835849260604,
          -0.030272680165639144,
          -0.19330543058468622,
          0.5406762641321228,
          -0.15218872997877028,
          -0.028726292254219573,
          0.2520810055687992,
          0.4989431207379068,
          0.06257638118414904,
          0.1086899988773823,
          0.21485906857353052,
          -0.0774032865296612,
          0.5345415557456633,
          0.013635933376148459,
          -0.08573317391698682,
          -0.3688669970541906,
          0.11205067434174959,
          0.4689603232019821,
          0.333626514225829,
          -0.5462760117461829,
          0.4530974802419694,
          0.4596832355017346,
          -0.0024551712151526625,
          0.17108524560675106,
          -0.1600582900686725,
          0.08809632347564314,
          0.015538462872577869,
          0.4051085582762256,
          0.32827046962739154,
          -0.08691283724144755,
          0.23639521783687825,
          0.20985542728534418,
          0.4951939083216531,
          -0.05721591274317851,
          0.17702659294190776,
          0.4605333974099275,
          0.49979546829863514,
          -0.12444496928087224,
          0.14064690083202072,
          0.10257483061672602,
          -0.3378343311987542,
          0.22242230059035223,
          0.04232926354541389,
          0.3490041171079186,
          0.2373913373690813,
          0.2308581134260355,
          -0.0024879533450097133,
          0.06855385264292264,
          0.06267210750369756,
          0.29443800981366275,
          0.07683932192081477,
          0.017619361100069793,
          0.25543381368274004,
          0.014318032042679035,
          0.03894454511899547,
          -0.1817777913977176,
          0.269724813215337,
          0.16791762749954697,
          0.08607391033431226,
          0.046862802077427934,
          0.20119134939549632,
          0.2684386809736274,
          0.12196096924914479,
          0.08863403646367533,
          -0.003883324997155501,
          -0.06603207279261436,
          null,
          0.12479409007754091,
          0.007562058321005352,
          0.16082418152923897,
          -0.10304460906322076,
          0.00841071861235168,
          0.12954917587935702,
          0.13209180244024965,
          0.13671601972526412,
          0.1524694730258122,
          0.16108793600951404,
          -0.5206517371515502,
          0.1699899313279235,
          0.07362574368289819,
          0.0075081460919109635,
          -0.13183694830768147,
          -0.1566259762809651,
          -0.034146369481957636,
          -0.07230680472598432,
          0.21352254458393202,
          0.09264494711444515,
          -0.06646325943338649,
          0.09398898022569473,
          0.11012675409366729,
          0.09910296630859954,
          -0.2890539673271292,
          -0.04573307406804606,
          0.025011442233808683,
          0.12668340492713875,
          0.126179894086159,
          -0.019445846970132203,
          -0.010426743338798701,
          0.12423441441271074,
          0.0491866378000326,
          0.44659871572433824,
          0.1329466985627852,
          -0.2854743173243155,
          0.08163397475291725,
          -0.019816501139232463,
          0.14214190854276093,
          0.12060708952882511,
          -0.12426445206430783,
          -0.34887408499719724,
          0.043441759815387136,
          -0.07684727986821263,
          0.16729374242785422,
          -0.18832415139842817,
          -0.1792447938060414,
          -0.1778246076175729,
          -0.17511714866234307,
          -0.1676005030316412,
          0.06074330462736849,
          0.05276214681815524,
          0.07469490925535534,
          -0.19119589011303725,
          -0.19073750473413353,
          -0.13619144708559516,
          0.12386973805976167,
          -0.11888865553620245,
          0.22958199481094038,
          0.25387205416437336,
          -0.085895390350464,
          0.15238682974782122,
          0.01926226298097482,
          -0.016410975345762312,
          -0.001970634837725159,
          0.013270764669499491,
          -0.0040992078654031785,
          0.034027835180174625,
          0.12924536412327192,
          0.12740423823406355,
          0.12627254945927038,
          -0.056073882288609635,
          0.12925729076839376,
          -0.004367299738081579,
          0.11703452335615605,
          1
         ],
         "y": [
          "P_2",
          "D_39",
          "B_1",
          "B_2",
          "R_1",
          "S_3",
          "D_41",
          "B_3",
          "D_42",
          "D_43",
          "D_44",
          "B_4",
          "D_45",
          "B_5",
          "R_2",
          "D_46",
          "D_47",
          "D_48",
          "D_49",
          "B_6",
          "B_7",
          "B_8",
          "D_50",
          "D_51",
          "B_9",
          "R_3",
          "D_52",
          "P_3",
          "B_10",
          "D_53",
          "S_5",
          "B_11",
          "S_6",
          "D_54",
          "R_4",
          "S_7",
          "B_12",
          "S_8",
          "D_55",
          "D_56",
          "B_13",
          "R_5",
          "D_58",
          "S_9",
          "B_14",
          "D_59",
          "D_60",
          "D_61",
          "B_15",
          "S_11",
          "D_62",
          "D_65",
          "B_16",
          "B_17",
          "B_18",
          "B_19",
          "B_20",
          "S_12",
          "R_6",
          "S_13",
          "B_21",
          "D_69",
          "B_22",
          "D_70",
          "D_71",
          "D_72",
          "S_15",
          "B_23",
          "D_73",
          "P_4",
          "D_74",
          "D_75",
          "D_76",
          "B_24",
          "R_7",
          "D_77",
          "B_25",
          "B_26",
          "D_78",
          "D_79",
          "R_8",
          "R_9",
          "S_16",
          "D_80",
          "R_10",
          "R_11",
          "B_27",
          "D_81",
          "D_82",
          "S_17",
          "R_12",
          "B_28",
          "R_13",
          "D_83",
          "R_14",
          "R_15",
          "D_84",
          "R_16",
          "B_29",
          "S_18",
          "D_86",
          "D_87",
          "R_17",
          "R_18",
          "D_88",
          "B_31",
          "S_19",
          "R_19",
          "B_32",
          "S_20",
          "R_20",
          "R_21",
          "B_33",
          "D_89",
          "R_22",
          "R_23",
          "D_91",
          "D_92",
          "D_93",
          "D_94",
          "R_24",
          "R_25",
          "D_96",
          "S_22",
          "S_23",
          "S_24",
          "S_25",
          "S_26",
          "D_102",
          "D_103",
          "D_104",
          "D_105",
          "D_106",
          "D_107",
          "B_36",
          "B_37",
          "R_26",
          "R_27",
          "D_108",
          "D_109",
          "D_110",
          "D_111",
          "B_39",
          "D_112",
          "B_40",
          "S_27",
          "D_113",
          "D_115",
          "D_118",
          "D_119",
          "D_121",
          "D_122",
          "D_123",
          "D_124",
          "D_125",
          "D_127",
          "D_128",
          "D_129",
          "B_41",
          "B_42",
          "D_130",
          "D_131",
          "D_132",
          "D_133",
          "R_28",
          "D_134",
          "D_135",
          "D_136",
          "D_137",
          "D_138",
          "D_139",
          "D_140",
          "D_141",
          "D_142",
          "D_143",
          "D_144",
          "D_145",
          "target"
         ]
        }
       ],
       "layout": {
        "height": 3000,
        "template": {
         "data": {
          "bar": [
           {
            "error_x": {
             "color": "#2a3f5f"
            },
            "error_y": {
             "color": "#2a3f5f"
            },
            "marker": {
             "line": {
              "color": "#E5ECF6",
              "width": 0.5
             },
             "pattern": {
              "fillmode": "overlay",
              "size": 10,
              "solidity": 0.2
             }
            },
            "type": "bar"
           }
          ],
          "barpolar": [
           {
            "marker": {
             "line": {
              "color": "#E5ECF6",
              "width": 0.5
             },
             "pattern": {
              "fillmode": "overlay",
              "size": 10,
              "solidity": 0.2
             }
            },
            "type": "barpolar"
           }
          ],
          "carpet": [
           {
            "aaxis": {
             "endlinecolor": "#2a3f5f",
             "gridcolor": "white",
             "linecolor": "white",
             "minorgridcolor": "white",
             "startlinecolor": "#2a3f5f"
            },
            "baxis": {
             "endlinecolor": "#2a3f5f",
             "gridcolor": "white",
             "linecolor": "white",
             "minorgridcolor": "white",
             "startlinecolor": "#2a3f5f"
            },
            "type": "carpet"
           }
          ],
          "choropleth": [
           {
            "colorbar": {
             "outlinewidth": 0,
             "ticks": ""
            },
            "type": "choropleth"
           }
          ],
          "contour": [
           {
            "colorbar": {
             "outlinewidth": 0,
             "ticks": ""
            },
            "colorscale": [
             [
              0,
              "#0d0887"
             ],
             [
              0.1111111111111111,
              "#46039f"
             ],
             [
              0.2222222222222222,
              "#7201a8"
             ],
             [
              0.3333333333333333,
              "#9c179e"
             ],
             [
              0.4444444444444444,
              "#bd3786"
             ],
             [
              0.5555555555555556,
              "#d8576b"
             ],
             [
              0.6666666666666666,
              "#ed7953"
             ],
             [
              0.7777777777777778,
              "#fb9f3a"
             ],
             [
              0.8888888888888888,
              "#fdca26"
             ],
             [
              1,
              "#f0f921"
             ]
            ],
            "type": "contour"
           }
          ],
          "contourcarpet": [
           {
            "colorbar": {
             "outlinewidth": 0,
             "ticks": ""
            },
            "type": "contourcarpet"
           }
          ],
          "heatmap": [
           {
            "colorbar": {
             "outlinewidth": 0,
             "ticks": ""
            },
            "colorscale": [
             [
              0,
              "#0d0887"
             ],
             [
              0.1111111111111111,
              "#46039f"
             ],
             [
              0.2222222222222222,
              "#7201a8"
             ],
             [
              0.3333333333333333,
              "#9c179e"
             ],
             [
              0.4444444444444444,
              "#bd3786"
             ],
             [
              0.5555555555555556,
              "#d8576b"
             ],
             [
              0.6666666666666666,
              "#ed7953"
             ],
             [
              0.7777777777777778,
              "#fb9f3a"
             ],
             [
              0.8888888888888888,
              "#fdca26"
             ],
             [
              1,
              "#f0f921"
             ]
            ],
            "type": "heatmap"
           }
          ],
          "heatmapgl": [
           {
            "colorbar": {
             "outlinewidth": 0,
             "ticks": ""
            },
            "colorscale": [
             [
              0,
              "#0d0887"
             ],
             [
              0.1111111111111111,
              "#46039f"
             ],
             [
              0.2222222222222222,
              "#7201a8"
             ],
             [
              0.3333333333333333,
              "#9c179e"
             ],
             [
              0.4444444444444444,
              "#bd3786"
             ],
             [
              0.5555555555555556,
              "#d8576b"
             ],
             [
              0.6666666666666666,
              "#ed7953"
             ],
             [
              0.7777777777777778,
              "#fb9f3a"
             ],
             [
              0.8888888888888888,
              "#fdca26"
             ],
             [
              1,
              "#f0f921"
             ]
            ],
            "type": "heatmapgl"
           }
          ],
          "histogram": [
           {
            "marker": {
             "pattern": {
              "fillmode": "overlay",
              "size": 10,
              "solidity": 0.2
             }
            },
            "type": "histogram"
           }
          ],
          "histogram2d": [
           {
            "colorbar": {
             "outlinewidth": 0,
             "ticks": ""
            },
            "colorscale": [
             [
              0,
              "#0d0887"
             ],
             [
              0.1111111111111111,
              "#46039f"
             ],
             [
              0.2222222222222222,
              "#7201a8"
             ],
             [
              0.3333333333333333,
              "#9c179e"
             ],
             [
              0.4444444444444444,
              "#bd3786"
             ],
             [
              0.5555555555555556,
              "#d8576b"
             ],
             [
              0.6666666666666666,
              "#ed7953"
             ],
             [
              0.7777777777777778,
              "#fb9f3a"
             ],
             [
              0.8888888888888888,
              "#fdca26"
             ],
             [
              1,
              "#f0f921"
             ]
            ],
            "type": "histogram2d"
           }
          ],
          "histogram2dcontour": [
           {
            "colorbar": {
             "outlinewidth": 0,
             "ticks": ""
            },
            "colorscale": [
             [
              0,
              "#0d0887"
             ],
             [
              0.1111111111111111,
              "#46039f"
             ],
             [
              0.2222222222222222,
              "#7201a8"
             ],
             [
              0.3333333333333333,
              "#9c179e"
             ],
             [
              0.4444444444444444,
              "#bd3786"
             ],
             [
              0.5555555555555556,
              "#d8576b"
             ],
             [
              0.6666666666666666,
              "#ed7953"
             ],
             [
              0.7777777777777778,
              "#fb9f3a"
             ],
             [
              0.8888888888888888,
              "#fdca26"
             ],
             [
              1,
              "#f0f921"
             ]
            ],
            "type": "histogram2dcontour"
           }
          ],
          "mesh3d": [
           {
            "colorbar": {
             "outlinewidth": 0,
             "ticks": ""
            },
            "type": "mesh3d"
           }
          ],
          "parcoords": [
           {
            "line": {
             "colorbar": {
              "outlinewidth": 0,
              "ticks": ""
             }
            },
            "type": "parcoords"
           }
          ],
          "pie": [
           {
            "automargin": true,
            "type": "pie"
           }
          ],
          "scatter": [
           {
            "fillpattern": {
             "fillmode": "overlay",
             "size": 10,
             "solidity": 0.2
            },
            "type": "scatter"
           }
          ],
          "scatter3d": [
           {
            "line": {
             "colorbar": {
              "outlinewidth": 0,
              "ticks": ""
             }
            },
            "marker": {
             "colorbar": {
              "outlinewidth": 0,
              "ticks": ""
             }
            },
            "type": "scatter3d"
           }
          ],
          "scattercarpet": [
           {
            "marker": {
             "colorbar": {
              "outlinewidth": 0,
              "ticks": ""
             }
            },
            "type": "scattercarpet"
           }
          ],
          "scattergeo": [
           {
            "marker": {
             "colorbar": {
              "outlinewidth": 0,
              "ticks": ""
             }
            },
            "type": "scattergeo"
           }
          ],
          "scattergl": [
           {
            "marker": {
             "colorbar": {
              "outlinewidth": 0,
              "ticks": ""
             }
            },
            "type": "scattergl"
           }
          ],
          "scattermapbox": [
           {
            "marker": {
             "colorbar": {
              "outlinewidth": 0,
              "ticks": ""
             }
            },
            "type": "scattermapbox"
           }
          ],
          "scatterpolar": [
           {
            "marker": {
             "colorbar": {
              "outlinewidth": 0,
              "ticks": ""
             }
            },
            "type": "scatterpolar"
           }
          ],
          "scatterpolargl": [
           {
            "marker": {
             "colorbar": {
              "outlinewidth": 0,
              "ticks": ""
             }
            },
            "type": "scatterpolargl"
           }
          ],
          "scatterternary": [
           {
            "marker": {
             "colorbar": {
              "outlinewidth": 0,
              "ticks": ""
             }
            },
            "type": "scatterternary"
           }
          ],
          "surface": [
           {
            "colorbar": {
             "outlinewidth": 0,
             "ticks": ""
            },
            "colorscale": [
             [
              0,
              "#0d0887"
             ],
             [
              0.1111111111111111,
              "#46039f"
             ],
             [
              0.2222222222222222,
              "#7201a8"
             ],
             [
              0.3333333333333333,
              "#9c179e"
             ],
             [
              0.4444444444444444,
              "#bd3786"
             ],
             [
              0.5555555555555556,
              "#d8576b"
             ],
             [
              0.6666666666666666,
              "#ed7953"
             ],
             [
              0.7777777777777778,
              "#fb9f3a"
             ],
             [
              0.8888888888888888,
              "#fdca26"
             ],
             [
              1,
              "#f0f921"
             ]
            ],
            "type": "surface"
           }
          ],
          "table": [
           {
            "cells": {
             "fill": {
              "color": "#EBF0F8"
             },
             "line": {
              "color": "white"
             }
            },
            "header": {
             "fill": {
              "color": "#C8D4E3"
             },
             "line": {
              "color": "white"
             }
            },
            "type": "table"
           }
          ]
         },
         "layout": {
          "annotationdefaults": {
           "arrowcolor": "#2a3f5f",
           "arrowhead": 0,
           "arrowwidth": 1
          },
          "autotypenumbers": "strict",
          "coloraxis": {
           "colorbar": {
            "outlinewidth": 0,
            "ticks": ""
           }
          },
          "colorscale": {
           "diverging": [
            [
             0,
             "#8e0152"
            ],
            [
             0.1,
             "#c51b7d"
            ],
            [
             0.2,
             "#de77ae"
            ],
            [
             0.3,
             "#f1b6da"
            ],
            [
             0.4,
             "#fde0ef"
            ],
            [
             0.5,
             "#f7f7f7"
            ],
            [
             0.6,
             "#e6f5d0"
            ],
            [
             0.7,
             "#b8e186"
            ],
            [
             0.8,
             "#7fbc41"
            ],
            [
             0.9,
             "#4d9221"
            ],
            [
             1,
             "#276419"
            ]
           ],
           "sequential": [
            [
             0,
             "#0d0887"
            ],
            [
             0.1111111111111111,
             "#46039f"
            ],
            [
             0.2222222222222222,
             "#7201a8"
            ],
            [
             0.3333333333333333,
             "#9c179e"
            ],
            [
             0.4444444444444444,
             "#bd3786"
            ],
            [
             0.5555555555555556,
             "#d8576b"
            ],
            [
             0.6666666666666666,
             "#ed7953"
            ],
            [
             0.7777777777777778,
             "#fb9f3a"
            ],
            [
             0.8888888888888888,
             "#fdca26"
            ],
            [
             1,
             "#f0f921"
            ]
           ],
           "sequentialminus": [
            [
             0,
             "#0d0887"
            ],
            [
             0.1111111111111111,
             "#46039f"
            ],
            [
             0.2222222222222222,
             "#7201a8"
            ],
            [
             0.3333333333333333,
             "#9c179e"
            ],
            [
             0.4444444444444444,
             "#bd3786"
            ],
            [
             0.5555555555555556,
             "#d8576b"
            ],
            [
             0.6666666666666666,
             "#ed7953"
            ],
            [
             0.7777777777777778,
             "#fb9f3a"
            ],
            [
             0.8888888888888888,
             "#fdca26"
            ],
            [
             1,
             "#f0f921"
            ]
           ]
          },
          "colorway": [
           "#636efa",
           "#EF553B",
           "#00cc96",
           "#ab63fa",
           "#FFA15A",
           "#19d3f3",
           "#FF6692",
           "#B6E880",
           "#FF97FF",
           "#FECB52"
          ],
          "font": {
           "color": "#2a3f5f"
          },
          "geo": {
           "bgcolor": "white",
           "lakecolor": "white",
           "landcolor": "#E5ECF6",
           "showlakes": true,
           "showland": true,
           "subunitcolor": "white"
          },
          "hoverlabel": {
           "align": "left"
          },
          "hovermode": "closest",
          "mapbox": {
           "style": "light"
          },
          "paper_bgcolor": "white",
          "plot_bgcolor": "#E5ECF6",
          "polar": {
           "angularaxis": {
            "gridcolor": "white",
            "linecolor": "white",
            "ticks": ""
           },
           "bgcolor": "#E5ECF6",
           "radialaxis": {
            "gridcolor": "white",
            "linecolor": "white",
            "ticks": ""
           }
          },
          "scene": {
           "xaxis": {
            "backgroundcolor": "#E5ECF6",
            "gridcolor": "white",
            "gridwidth": 2,
            "linecolor": "white",
            "showbackground": true,
            "ticks": "",
            "zerolinecolor": "white"
           },
           "yaxis": {
            "backgroundcolor": "#E5ECF6",
            "gridcolor": "white",
            "gridwidth": 2,
            "linecolor": "white",
            "showbackground": true,
            "ticks": "",
            "zerolinecolor": "white"
           },
           "zaxis": {
            "backgroundcolor": "#E5ECF6",
            "gridcolor": "white",
            "gridwidth": 2,
            "linecolor": "white",
            "showbackground": true,
            "ticks": "",
            "zerolinecolor": "white"
           }
          },
          "shapedefaults": {
           "line": {
            "color": "#2a3f5f"
           }
          },
          "ternary": {
           "aaxis": {
            "gridcolor": "white",
            "linecolor": "white",
            "ticks": ""
           },
           "baxis": {
            "gridcolor": "white",
            "linecolor": "white",
            "ticks": ""
           },
           "bgcolor": "#E5ECF6",
           "caxis": {
            "gridcolor": "white",
            "linecolor": "white",
            "ticks": ""
           }
          },
          "title": {
           "x": 0.05
          },
          "xaxis": {
           "automargin": true,
           "gridcolor": "white",
           "linecolor": "white",
           "ticks": "",
           "title": {
            "standoff": 15
           },
           "zerolinecolor": "white",
           "zerolinewidth": 2
          },
          "yaxis": {
           "automargin": true,
           "gridcolor": "white",
           "linecolor": "white",
           "ticks": "",
           "title": {
            "standoff": 15
           },
           "zerolinecolor": "white",
           "zerolinewidth": 2
          }
         }
        },
        "title": {
         "text": "Correlation of variables with Target"
        },
        "width": 700
       }
      }
     },
     "metadata": {},
     "output_type": "display_data"
    }
   ],
   "source": [
    "target = train_data1.corrwith(train_data1['target'], axis=0)\n",
    "val = [str(round(v ,1) *100) + '%' for v in target.values]\n",
    "\n",
    "fig = go.Figure()\n",
    "fig.add_trace(go.Bar(y=target.index, x=target.values, orientation='h', text = val))\n",
    "fig.update_layout(title = \"Correlation of variables with Target\", width = 700, height = 3000)\n",
    "fig.show()\n",
    "\n",
    "del target, val"
   ]
  },
  {
   "cell_type": "markdown",
   "metadata": {},
   "source": [
    "# Export datasets"
   ]
  },
  {
   "cell_type": "code",
   "execution_count": 7,
   "metadata": {},
   "outputs": [],
   "source": [
    "train_data1.to_csv('data/train_data.csv')\n",
    "test_data1.to_csv('data/test_data.csv')"
   ]
  }
 ],
 "metadata": {
  "kernelspec": {
   "display_name": "venv",
   "language": "python",
   "name": "venv"
  },
  "language_info": {
   "codemirror_mode": {
    "name": "ipython",
    "version": 3
   },
   "file_extension": ".py",
   "mimetype": "text/x-python",
   "name": "python",
   "nbconvert_exporter": "python",
   "pygments_lexer": "ipython3",
   "version": "3.10.4"
  },
  "orig_nbformat": 4,
  "vscode": {
   "interpreter": {
    "hash": "e9287afb24609ed77f3c3a85186799500213f0c59d490fe0500cb64d7905080a"
   }
  }
 },
 "nbformat": 4,
 "nbformat_minor": 2
}
